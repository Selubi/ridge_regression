{
 "cells": [
  {
   "cell_type": "code",
   "execution_count": 5,
   "metadata": {},
   "outputs": [],
   "source": [
    "import numpy as np\n",
    "import pandas as pd\n",
    "import scipy.optimize as op\n",
    "from pathlib import Path\n",
    "from sklearn.linear_model import Ridge\n",
    "from sklearn.model_selection import GridSearchCV\n",
    "from sklearn.base import BaseEstimator, RegressorMixin\n",
    "from sklearn.utils.validation import check_X_y, check_is_fitted, check_array\n",
    "import warnings\n",
    "warnings.filterwarnings('ignore') # 実行に影響のない　warninig　を非表示にします. 非推奨."
   ]
  },
  {
   "cell_type": "code",
   "execution_count": 6,
   "metadata": {},
   "outputs": [],
   "source": [
    "#リッジ回帰を実装\n",
    "class MyRegression(BaseEstimator, RegressorMixin):\n",
    "    def __init__(self, lam=0):\n",
    "        \"\"\"\n",
    "        Initialize a coefficient and an intercept.\n",
    "        \"\"\"\n",
    "        self.lam = lam\n",
    "\n",
    "    def fit(self, X, y):\n",
    "        \"\"\"\n",
    "        X: array-like, shape (n_samples, n_features)\n",
    "        y: array, shape (n_samples,)\n",
    "        Estimate a coefficient and an intercept from data.\n",
    "        \"\"\"\n",
    "        X, y = check_X_y(X, y, y_numeric=True)\n",
    "\n",
    "        #adds a dummy intercept\n",
    "        X_ = np.append(X, [[1] for i in range(len(X))], axis=1)\n",
    "        #coef to tweak\n",
    "        coef = np.array([1 for i in range(len(X_[0]))])\n",
    "\n",
    "        #function to minimize\n",
    "        def f(params):\n",
    "            return ((y-np.matmul(X_, params)) ** 2).sum()+self.lam*(params**2).sum()\n",
    "\n",
    "        #tweak coef, minimize function\n",
    "        res = op.minimize(f, coef)\n",
    "\n",
    "        self.coef_ = res.x[:-1]\n",
    "        self.intercept_ = res.x[-1]\n",
    "        return self\n",
    "\n",
    "    def predict(self, X):\n",
    "        \"\"\"\n",
    "        Calc y from X\n",
    "        \"\"\"\n",
    "        check_is_fitted(self, \"coef_\", \"intercept_\")  # 学習済みかチェックする(推奨)\n",
    "        X = check_array(X)\n",
    "        X_ = np.append(X, [[1] for i in range(len(X))], axis=1)\n",
    "        y = np.matmul(X_, np.append(self.coef_,self.intercept_))\n",
    "        return y\n"
   ]
  },
  {
   "cell_type": "code",
   "execution_count": 7,
   "metadata": {},
   "outputs": [],
   "source": [
    "def prep_x(X_df):\n",
    "    #change 最多風向 to each own column.0-1\n",
    "    X=pd.concat([X_df,pd.get_dummies(X_df[\"最多風向\"])],axis=1)\n",
    "    X=X_df.drop(\"最多風向\",axis=1).values\n",
    "    return X"
   ]
  },
  {
   "cell_type": "code",
   "execution_count": 8,
   "metadata": {},
   "outputs": [],
   "source": [
    "data_dir=Path(\"../data/\")\n",
    "X_train=prep_x(pd.read_csv(data_dir / \"X_train.csv\"))\n",
    "X_test=prep_x(pd.read_csv(data_dir / \"X_test.csv\"))\n",
    "y_train=np.ravel(pd.read_csv(data_dir / \"y_train.csv\").values)"
   ]
  },
  {
   "cell_type": "code",
   "execution_count": 9,
   "metadata": {},
   "outputs": [
    {
     "name": "stdout",
     "output_type": "stream",
     "text": [
      "[ 0.04900464  0.07584589  0.02897993 -0.00439623  0.00011427  0.00662473\n",
      "  0.0140017   0.04390732 -0.06508506 -0.10261269  0.00647107  0.00623762\n",
      " -0.00295842]\n",
      "6.905452859658953e-05\n"
     ]
    }
   ],
   "source": [
    "#一番下のセルgridsearchにより、最適なlamは1820\n",
    "clf=MyRegression(lam=1820)\n",
    "clf.fit(X_train,y_train)\n",
    "print(clf.coef_)\n",
    "print(clf.intercept_)"
   ]
  },
  {
   "cell_type": "code",
   "execution_count": 10,
   "metadata": {},
   "outputs": [],
   "source": [
    "y_predict=np.round(clf.predict(X_test),1)\n",
    "ans_dict={\"placeholder\":y_predict}\n",
    "ans_df=pd.DataFrame(ans_dict)\n",
    "ans_df.to_csv(data_dir/\"y_pred.csv\",index=False)\n"
   ]
  },
  {
   "cell_type": "code",
   "execution_count": 11,
   "metadata": {},
   "outputs": [],
   "source": [
    "#ここで以上。以下はグリッドサーチ等。グリッドサーチはryzen3950xで30分。"
   ]
  },
  {
   "cell_type": "code",
   "execution_count": null,
   "metadata": {},
   "outputs": [],
   "source": []
  },
  {
   "cell_type": "code",
   "execution_count": 6,
   "metadata": {},
   "outputs": [
    {
     "name": "stdout",
     "output_type": "stream",
     "text": [
      "{'alpha': array([-5000, -4999, -4998, ...,  4997,  4998,  4999])}\n",
      "決定係数:  0.6360663087395901\n",
      "lam:  2096\n"
     ]
    }
   ],
   "source": [
    "# Grid search of Ridge()\n",
    "parameters = {'alpha':np.arange(-5000,5000)}\n",
    "print(parameters)\n",
    "reg = GridSearchCV(Ridge(),parameters,cv=5)\n",
    "reg.fit(X_train,y_train)\n",
    "best = reg.best_estimator_\n",
    "# 決定係数\n",
    "print(\"決定係数: \", best.score(X_train, y_train)) # BaseEstimatorを継承しているため使える\n",
    "# lambda\n",
    "print(\"lam: \", best.alpha)"
   ]
  },
  {
   "cell_type": "code",
   "execution_count": 39,
   "metadata": {},
   "outputs": [
    {
     "name": "stdout",
     "output_type": "stream",
     "text": [
      "{'lam': array([-5000, -4999, -4998, ...,  4997,  4998,  4999])}\n",
      "決定係数:  0.610779339360711\n",
      "lam:  1820\n"
     ]
    }
   ],
   "source": [
    "# Grid search of MyLinearRegression\n",
    "parameters = {'lam':np.arange(-5000,5000)}\n",
    "print(parameters)\n",
    "reg = GridSearchCV(MyRegression(),parameters,cv=5)\n",
    "reg.fit(X_train,y_train)\n",
    "best = reg.best_estimator_\n",
    "# 決定係数\n",
    "print(\"決定係数: \", best.score(X_train, y_train)) # BaseEstimatorを継承しているため使える\n",
    "# lambda 1820\n",
    "print(\"lam: \", best.lam)"
   ]
  },
  {
   "cell_type": "code",
   "execution_count": 8,
   "metadata": {},
   "outputs": [
    {
     "name": "stdout",
     "output_type": "stream",
     "text": [
      "(28, 2)\n",
      "[0.58387849 0.27085845]\n",
      "[[ 0.01676688  0.03082961  0.0143759   0.93738159  0.01972845  0.06350653\n",
      "   0.14646301  0.0549713   0.10304277  0.02650805 -0.11122719 -0.11168056\n",
      "  -0.23413121]\n",
      " [ 0.07622884  0.11850467  0.04265574  0.03057731  0.01751759  0.05344412\n",
      "   0.10303293 -0.05285351 -0.55808295 -0.79890643 -0.0221221  -0.02302409\n",
      "  -0.10045567]]\n"
     ]
    }
   ],
   "source": [
    "from sklearn.decomposition import PCA\n",
    "pca=PCA(n_components=2)\n",
    "X_pca=pca.fit_transform(X_train)\n",
    "print(X_pca.shape)\n",
    "print(pca.explained_variance_ratio_)\n",
    "print(pca.components_)"
   ]
  },
  {
   "cell_type": "code",
   "execution_count": null,
   "metadata": {},
   "outputs": [],
   "source": []
  }
 ],
 "metadata": {
  "interpreter": {
   "hash": "50a13140c5358db837e7d7cdc12e24c9cfbb5f58e02f3296dcd8fc6eed3e7049"
  },
  "kernelspec": {
   "display_name": "Python 3.9.7 64-bit ('main': conda)",
   "name": "python3"
  },
  "language_info": {
   "codemirror_mode": {
    "name": "ipython",
    "version": 3
   },
   "file_extension": ".py",
   "mimetype": "text/x-python",
   "name": "python",
   "nbconvert_exporter": "python",
   "pygments_lexer": "ipython3",
   "version": "3.9.7"
  },
  "orig_nbformat": 4
 },
 "nbformat": 4,
 "nbformat_minor": 2
}
